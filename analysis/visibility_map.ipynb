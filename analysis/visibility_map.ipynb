{
 "cells": [
  {
   "cell_type": "markdown",
   "id": "518082d8-e7ec-4a39-b81b-ac4089617e6d",
   "metadata": {},
   "source": [
    "# Estimation of visibility map"
   ]
  },
  {
   "cell_type": "code",
   "execution_count": 1,
   "id": "870d355b-f0ed-48dd-b3f8-37837de70af4",
   "metadata": {},
   "outputs": [],
   "source": [
    "import numpy as np\n",
    "import pandas as pd\n",
    "import matplotlib.pyplot as plt\n",
    "\n",
    "from scipy.io import loadmat\n",
    "from scipy.stats import norm\n",
    "from scipy.optimize import minimize"
   ]
  },
  {
   "cell_type": "code",
   "execution_count": 2,
   "id": "db07c935-0602-4e0d-b995-834a8501d175",
   "metadata": {},
   "outputs": [],
   "source": [
    "staircase = pd.read_csv('../writeup/data/main/visibility_map/detection_task_B.csv')"
   ]
  },
  {
   "cell_type": "code",
   "execution_count": 3,
   "id": "7e71ead1-36bd-435d-beb0-75025adbdaae",
   "metadata": {},
   "outputs": [],
   "source": [
    "eps = 1e-10\n",
    "\n",
    "def weibull(c, thres, s, lam):\n",
    "    return 0.5 + (0.5-lam)*(1.-np.exp(-(c/thres)**s))\n",
    "\n",
    "def nll_joint(par, ctrst, corr):\n",
    "    thres_0, thres_1, s, lam = par\n",
    "    ctrst_0, ctrst_1 = ctrst\n",
    "    corr_0,  corr_1  = corr\n",
    "    \n",
    "    prob_0 = weibull(ctrst_0, thres_0, s, lam)\n",
    "    prob_1 = weibull(ctrst_1, thres_1, s, lam)\n",
    "    \n",
    "    prob_0[prob_0>=1.] = 1.-eps\n",
    "    prob_0[prob_0<=0]  = eps\n",
    "    prob_1[prob_1>=1.] = 1.-eps\n",
    "    prob_1[prob_1<=0]  = eps\n",
    "    \n",
    "    sum_ll   = np.sum(np.log(prob_0[corr_0==1])) + np.sum(np.log(1.-prob_0[corr_0==0]))\n",
    "    sum_ll  += np.sum(np.log(prob_1[corr_1==1])) + np.sum(np.log(1.-prob_1[corr_1==0]))\n",
    "    return -sum_ll\n",
    "\n",
    "def smooth(e): return 2. + 2.8*e/(e+0.8)"
   ]
  },
  {
   "cell_type": "code",
   "execution_count": 4,
   "id": "3f9da5ea-ee79-4196-8472-0b3c3cdce99a",
   "metadata": {},
   "outputs": [],
   "source": [
    "result = pd.DataFrame()\n",
    "for i_loc, v_loc in enumerate([2.125,6.375]):\n",
    "    idx = (staircase.location == v_loc) \n",
    "    \n",
    "    ctrst = [staircase.contrast[idx & (staircase.noise == 0.05)].to_numpy(),\n",
    "             staircase.contrast[idx & (staircase.noise == 0.20)].to_numpy()]\n",
    "    corr  = [staircase.correct[idx & (staircase.noise == 0.05)].to_numpy(),\n",
    "             staircase.correct[idx & (staircase.noise == 0.20)].to_numpy()]\n",
    "    \n",
    "    res = minimize(nll_joint, [.5,.5,2.,0.1], \n",
    "                   args = (ctrst, corr), \n",
    "                   bounds = [[eps, 20.],[eps, 20.],[eps, 20.],[eps, .1]])\n",
    "    \n",
    "    result = pd.concat([result, pd.DataFrame({'eccen':[v_loc,v_loc], \n",
    "                                              'noise':[0.05,0.2], \n",
    "                                              'threshold':[res['x'][0],res['x'][1]],\n",
    "                                              'smooth':[res['x'][2],res['x'][2]],\n",
    "                                              'lapse':[res['x'][3],res['x'][3]]})])"
   ]
  },
  {
   "cell_type": "code",
   "execution_count": 5,
   "id": "60b8e52d-fa45-4c05-ad9e-44815bfc6f93",
   "metadata": {},
   "outputs": [
    {
     "data": {
      "text/html": [
       "<div>\n",
       "<style scoped>\n",
       "    .dataframe tbody tr th:only-of-type {\n",
       "        vertical-align: middle;\n",
       "    }\n",
       "\n",
       "    .dataframe tbody tr th {\n",
       "        vertical-align: top;\n",
       "    }\n",
       "\n",
       "    .dataframe thead th {\n",
       "        text-align: right;\n",
       "    }\n",
       "</style>\n",
       "<table border=\"1\" class=\"dataframe\">\n",
       "  <thead>\n",
       "    <tr style=\"text-align: right;\">\n",
       "      <th></th>\n",
       "      <th>eccen</th>\n",
       "      <th>noise</th>\n",
       "      <th>threshold</th>\n",
       "      <th>smooth</th>\n",
       "      <th>lapse</th>\n",
       "    </tr>\n",
       "  </thead>\n",
       "  <tbody>\n",
       "    <tr>\n",
       "      <th>0</th>\n",
       "      <td>2.125</td>\n",
       "      <td>0.05</td>\n",
       "      <td>0.025919</td>\n",
       "      <td>3.776987</td>\n",
       "      <td>0.041768</td>\n",
       "    </tr>\n",
       "    <tr>\n",
       "      <th>1</th>\n",
       "      <td>2.125</td>\n",
       "      <td>0.20</td>\n",
       "      <td>0.069310</td>\n",
       "      <td>3.776987</td>\n",
       "      <td>0.041768</td>\n",
       "    </tr>\n",
       "    <tr>\n",
       "      <th>0</th>\n",
       "      <td>6.375</td>\n",
       "      <td>0.05</td>\n",
       "      <td>0.037227</td>\n",
       "      <td>3.054385</td>\n",
       "      <td>0.035104</td>\n",
       "    </tr>\n",
       "    <tr>\n",
       "      <th>1</th>\n",
       "      <td>6.375</td>\n",
       "      <td>0.20</td>\n",
       "      <td>0.115264</td>\n",
       "      <td>3.054385</td>\n",
       "      <td>0.035104</td>\n",
       "    </tr>\n",
       "  </tbody>\n",
       "</table>\n",
       "</div>"
      ],
      "text/plain": [
       "   eccen  noise  threshold    smooth     lapse\n",
       "0  2.125   0.05   0.025919  3.776987  0.041768\n",
       "1  2.125   0.20   0.069310  3.776987  0.041768\n",
       "0  6.375   0.05   0.037227  3.054385  0.035104\n",
       "1  6.375   0.20   0.115264  3.054385  0.035104"
      ]
     },
     "execution_count": 5,
     "metadata": {},
     "output_type": "execute_result"
    }
   ],
   "source": [
    "result"
   ]
  },
  {
   "cell_type": "code",
   "execution_count": 6,
   "id": "41432d82-bab2-45e6-8605-0364b1312601",
   "metadata": {},
   "outputs": [],
   "source": [
    "def simple_regression(x,y):\n",
    "    cov = np.cov(x,y)\n",
    "    slope = cov[0,1]/cov[0,0]\n",
    "    intercept = np.mean(y) - slope*np.mean(x)\n",
    "    return slope, intercept"
   ]
  },
  {
   "cell_type": "code",
   "execution_count": 7,
   "id": "78fc73a4-83cc-4e3c-9819-c6562d58a3d7",
   "metadata": {},
   "outputs": [],
   "source": [
    "# simple_regression([0.05,0.20], [0.025919,0.069310])\n",
    "# simple_regression([0.05,0.20], [0.037227,0.115264])\n",
    "\n",
    "eccen  = [2.125, 6.375]\n",
    "slopes = [0.289320, 0.513627]\n",
    "inters = [0.011465, 0.011585]\n",
    "\n",
    "s_slopes, i_slopes = simple_regression(eccen, np.log(slopes))\n",
    "s_inters, i_inters = simple_regression(eccen, np.log(inters))\n",
    "s_smooth, i_smooth = simple_regression(eccen, [3.775781, 3.046680])\n",
    "\n",
    "m_lapse = np.mean(result.lapse)"
   ]
  },
  {
   "cell_type": "code",
   "execution_count": 8,
   "id": "c72b974d-6de1-4dce-9d4e-dc90dde91950",
   "metadata": {},
   "outputs": [],
   "source": [
    "def threshold(en, eps):\n",
    "    \"\"\" threshold function\n",
    "    \"\"\"\n",
    "    slope     = np.exp(i_slopes+s_slopes*eps)\n",
    "    intercept = np.exp(i_inters+s_inters*eps)\n",
    "    \n",
    "    return np.sqrt(intercept+(en**2)*slope)\n",
    "\n",
    "def psychometric(c, thres, eps):\n",
    "    \"\"\" psychometric function: using approximation specified in the paper.\n",
    "    \"\"\"\n",
    "    # s = 2.8*eps/(eps+0.8)+2.\n",
    "    s = i_smooth+s_smooth*eps\n",
    "    \n",
    "    # return 0.5 + 0.5*(1.-np.exp(-(c/thres)**s))\n",
    "    return 0.5 + (0.5-m_lapse)*(1.-np.exp(-(c/thres)**s))\n",
    "\n",
    "def dprime(c, en, eps):\n",
    "    \"\"\" dprime function\n",
    "    \"\"\"\n",
    "    return np.sqrt(2)*norm.ppf(psychometric(c,threshold(en,eps),eps))"
   ]
  },
  {
   "cell_type": "code",
   "execution_count": 9,
   "id": "fba23837-a926-427b-8961-eef098241d19",
   "metadata": {},
   "outputs": [
    {
     "name": "stdout",
     "output_type": "stream",
     "text": [
      "[0.147, 0.156, 0.164, 0.18, 0.194, 0.207]\n",
      "[0.19, 0.202, 0.213, 0.233, 0.251, 0.269]\n"
     ]
    },
    {
     "data": {
      "image/png": "[encoded data removed]",
      "text/plain": [
       "<Figure size 432x288 with 1 Axes>"
      ]
     },
     "metadata": {
      "needs_background": "light"
     },
     "output_type": "display_data"
    }
   ],
   "source": [
    "ds  = np.linspace(0.1,10)\n",
    "lam = 0\n",
    "def get_center_contrast(ds, en):\n",
    "    thres = threshold(en, 0)    \n",
    "    return thres * (np.log(  (lam-0.5) / (lam-1. + norm.cdf(ds / np.sqrt(2)))  ) ** (1./i_smooth))\n",
    "\n",
    "plt.plot(ds, get_center_contrast(ds, en=0.05), label='Background noise = 0.05')\n",
    "plt.plot(ds, get_center_contrast(ds, en=0.20), label='Background noise = 0.20')\n",
    "\n",
    "print([np.round(get_center_contrast(_d, en=0.05), 3) for _d in [3., 3.5, 4., 5., 6., 7.]])\n",
    "print([np.round(get_center_contrast(_d, en=0.20), 3) for _d in [3., 3.5, 4., 5., 6., 7.]])\n",
    "\n",
    "plt.legend(frameon=False)\n",
    "plt.show()"
   ]
  }
 ],
 "metadata": {
  "kernelspec": {
   "display_name": "Python 3 (ipykernel)",
   "language": "python",
   "name": "python3"
  },
  "language_info": {
   "codemirror_mode": {
    "name": "ipython",
    "version": 3
   },
   "file_extension": ".py",
   "mimetype": "text/x-python",
   "name": "python",
   "nbconvert_exporter": "python",
   "pygments_lexer": "ipython3",
   "version": "3.9.12"
  }
 },
 "nbformat": 4,
 "nbformat_minor": 5
}
